{
 "cells": [
  {
   "cell_type": "code",
   "execution_count": 65,
   "metadata": {},
   "outputs": [],
   "source": [
    "import numpy as np\n",
    "import skimage.io\n",
    "from skimage import io as ski\n",
    "import skimage.metrics\n",
    "import matplotlib.pyplot as plt\n",
    "\n",
    "sz = [10,10]\n",
    "def make_data(sz):\n",
    "    data1 = np.zeros(sz, dtype=np.int8)\n",
    "    data1[4:10,4:10] += 1\n",
    "    data1[4:8,4:7] += 1\n",
    "\n",
    "    data2 = np.zeros(sz, dtype=np.int8)\n",
    "    data2[2:7, :8] += 1\n",
    "    data2[4:7,4:8] += 1\n",
    "    \n",
    "    return data1, data2\n",
    "\n",
    "def show_data(data1, data2):\n",
    "    \n",
    "    fig, axs = plt.subplots(1,2)\n",
    "    axs[0].imshow(data1)\n",
    "    axs[1].imshow(data2)\n",
    "\n",
    "# axs.flatten()\n",
    "# plt.imshow(data1)\n",
    "# plt.colorbar()\n",
    "\n"
   ]
  },
  {
   "cell_type": "markdown",
   "metadata": {},
   "source": [
    "# Ignore label 0 (default)"
   ]
  },
  {
   "cell_type": "code",
   "execution_count": 66,
   "metadata": {},
   "outputs": [
    {
     "name": "stdout",
     "output_type": "stream",
     "text": [
      "(0.26315789473684215, 0.7368421052631579, 0.7368421052631579)\n"
     ]
    },
    {
     "data": {
      "image/png": "[encoded data removed]",
      "text/plain": [
       "<Figure size 432x288 with 2 Axes>"
      ]
     },
     "metadata": {
      "needs_background": "light"
     },
     "output_type": "display_data"
    }
   ],
   "source": [
    "\n",
    "data1, data2 = make_data([10,10])\n",
    "show_data(data1,data2)\n",
    "print(skimage.metrics.adapted_rand_error(data1, data2))"
   ]
  },
  {
   "cell_type": "code",
   "execution_count": 61,
   "metadata": {},
   "outputs": [
    {
     "name": "stdout",
     "output_type": "stream",
     "text": [
      "(0.26315789473684215, 0.7368421052631579, 0.7368421052631579)\n"
     ]
    },
    {
     "data": {
      "image/png": "[encoded data removed]",
      "text/plain": [
       "<Figure size 432x288 with 2 Axes>"
      ]
     },
     "metadata": {
      "needs_background": "light"
     },
     "output_type": "display_data"
    }
   ],
   "source": [
    "\n",
    "data1, data2 = make_data([11,10])\n",
    "show_data(data1,data2)\n",
    "print(skimage.metrics.adapted_rand_error(data1, data2))"
   ]
  },
  {
   "cell_type": "markdown",
   "metadata": {},
   "source": [
    "# Use all labels"
   ]
  },
  {
   "cell_type": "code",
   "execution_count": 67,
   "metadata": {},
   "outputs": [
    {
     "name": "stdout",
     "output_type": "stream",
     "text": [
      "(0.44881889763779526, 0.5343511450381679, 0.5691056910569106)\n",
      "(0.43578447983734325, 0.5471574104502136, 0.5823714585519413)\n"
     ]
    },
    {
     "data": {
      "image/png": "[encoded data removed]",
      "text/plain": [
       "<Figure size 432x288 with 2 Axes>"
      ]
     },
     "metadata": {
      "needs_background": "light"
     },
     "output_type": "display_data"
    },
    {
     "data": {
      "image/png": "[encoded data removed]",
      "text/plain": [
       "<Figure size 432x288 with 2 Axes>"
      ]
     },
     "metadata": {
      "needs_background": "light"
     },
     "output_type": "display_data"
    }
   ],
   "source": [
    "\n",
    "data1, data2 = make_data([10,10])\n",
    "show_data(data1,data2)\n",
    "print(skimage.metrics.adapted_rand_error(data1, data2, ignore_labels=()))\n",
    "data1, data2 = make_data([11,10])\n",
    "show_data(data1,data2)\n",
    "print(skimage.metrics.adapted_rand_error(data1, data2, ignore_labels=()))"
   ]
  },
  {
   "cell_type": "markdown",
   "metadata": {},
   "source": [
    "# Check labels missplacement"
   ]
  },
  {
   "cell_type": "code",
   "execution_count": 68,
   "metadata": {},
   "outputs": [
    {
     "name": "stdout",
     "output_type": "stream",
     "text": [
      "(0.007401141890463037, 0.9953350296861747, 0.9898776887389287)\n"
     ]
    },
    {
     "data": {
      "image/png": "[encoded data removed]",
      "text/plain": [
       "<Figure size 432x288 with 2 Axes>"
      ]
     },
     "metadata": {
      "needs_background": "light"
     },
     "output_type": "display_data"
    }
   ],
   "source": [
    "\n",
    "data1, data2 = make_data([10,10])\n",
    "data2 = data1.copy()\n",
    "data2[4,4]=1\n",
    "show_data(data1,data2)\n",
    "\n",
    "print(skimage.metrics.adapted_rand_error(data1, data2, ignore_labels=()))\n"
   ]
  },
  {
   "cell_type": "code",
   "execution_count": 69,
   "metadata": {},
   "outputs": [
    {
     "name": "stdout",
     "output_type": "stream",
     "text": [
      "(0.01572656741455225, 0.9953350296861747, 0.9734549979261717)\n"
     ]
    },
    {
     "data": {
      "image/png": "[encoded data removed]",
      "text/plain": [
       "<Figure size 432x288 with 2 Axes>"
      ]
     },
     "metadata": {
      "needs_background": "light"
     },
     "output_type": "display_data"
    }
   ],
   "source": [
    "\n",
    "data1, data2 = make_data([10,10])\n",
    "data2 = data1.copy()\n",
    "data2[4,4]=0\n",
    "show_data(data1,data2)\n",
    "\n",
    "print(skimage.metrics.adapted_rand_error(data1, data2, ignore_labels=()))"
   ]
  },
  {
   "cell_type": "code",
   "execution_count": null,
   "metadata": {},
   "outputs": [],
   "source": []
  }
 ],
 "metadata": {
  "kernelspec": {
   "display_name": "Python 3",
   "language": "python",
   "name": "python3"
  },
  "language_info": {
   "codemirror_mode": {
    "name": "ipython",
    "version": 3
   },
   "file_extension": ".py",
   "mimetype": "text/x-python",
   "name": "python",
   "nbconvert_exporter": "python",
   "pygments_lexer": "ipython3",
   "version": "3.6.6"
  }
 },
 "nbformat": 4,
 "nbformat_minor": 4
}
