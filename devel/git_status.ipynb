{
 "cells": [
  {
   "cell_type": "code",
   "execution_count": 36,
   "metadata": {},
   "outputs": [],
   "source": [
    "import git\n",
    "from git import Repo\n",
    "from pathlib import Path"
   ]
  },
  {
   "cell_type": "code",
   "execution_count": 70,
   "metadata": {},
   "outputs": [
    {
     "name": "stdout",
     "output_type": "stream",
     "text": [
      "C:\\Users\\Jirik\\projects\\exsu\\devel\\..\n",
      "On branch master\n",
      "Your branch is up to date with 'origin/master'.\n",
      "\n",
      "Untracked files:\n",
      "  (use \"git add <file>...\" to include in what will be committed)\n",
      "\n",
      "\t.idea/encodings.xml\n",
      "\t.idea/exsu.iml\n",
      "\t.idea/misc.xml\n",
      "\t.idea/modules.xml\n",
      "\t.idea/workspace.xml\n",
      "\tbld.bat\n",
      "\tbuild.sh\n",
      "\tdevel/\n",
      "\ttest_report/\n",
      "\ttest_report_common_spreadsheet.xlsx\n",
      "\ttests/test_report/\n",
      "\ttests/test_report_common_spreadsheet.xlsx\n",
      "\n",
      "nothing added to commit but untracked files present (use \"git add\" to track)\n"
     ]
    }
   ],
   "source": [
    "repodir = Path(\"../../lisa/\")\n",
    "repodir = Path(\"../\")\n",
    "# repodir = Path(\".\")\n",
    "print(repodir.absolute())\n",
    "\n",
    "repo = Repo(str(repodir))\n",
    "print(repo.git.status())"
   ]
  },
  {
   "cell_type": "code",
   "execution_count": 45,
   "metadata": {},
   "outputs": [
    {
     "data": {
      "text/plain": [
       "'C:\\\\Users\\\\Jirik\\\\projects\\\\lisa\\\\.git'"
      ]
     },
     "execution_count": 45,
     "metadata": {},
     "output_type": "execute_result"
    }
   ],
   "source": [
    "repo.git_dir"
   ]
  },
  {
   "cell_type": "code",
   "execution_count": 26,
   "metadata": {},
   "outputs": [
    {
     "data": {
      "text/plain": [
       "str"
      ]
     },
     "execution_count": 26,
     "metadata": {},
     "output_type": "execute_result"
    }
   ],
   "source": [
    "repodir.resolve().stem"
   ]
  },
  {
   "cell_type": "code",
   "execution_count": 40,
   "metadata": {},
   "outputs": [
    {
     "data": {
      "text/plain": [
       "False"
      ]
     },
     "execution_count": 40,
     "metadata": {},
     "output_type": "execute_result"
    }
   ],
   "source": [
    "repo.is_dirty()"
   ]
  },
  {
   "cell_type": "code",
   "execution_count": 43,
   "metadata": {},
   "outputs": [
    {
     "data": {
      "text/plain": [
       "'v1.6-1019-gc867f88'"
      ]
     },
     "execution_count": 43,
     "metadata": {},
     "output_type": "execute_result"
    }
   ],
   "source": [
    "try:\n",
    "    desc = repo.git.describe()\n",
    "except git.exc.GitCommandError as e:\n",
    "    desc = None\n",
    "    print(str(e))\n",
    "    pass\n",
    "desc"
   ]
  },
  {
   "cell_type": "code",
   "execution_count": 12,
   "metadata": {},
   "outputs": [
    {
     "data": {
      "text/plain": [
       "'a1c966471ac3c97a4a39a51c2c213a935592dfd0'"
      ]
     },
     "execution_count": 12,
     "metadata": {},
     "output_type": "execute_result"
    }
   ],
   "source": [
    "sha = repo.head.object.hexsha\n",
    "sha"
   ]
  },
  {
   "cell_type": "code",
   "execution_count": 9,
   "metadata": {},
   "outputs": [
    {
     "data": {
      "text/plain": [
       "['DAEMON_EXPORT_FILE',\n",
       " 'GitCommandWrapperType',\n",
       " '__class__',\n",
       " '__del__',\n",
       " '__delattr__',\n",
       " '__dict__',\n",
       " '__dir__',\n",
       " '__doc__',\n",
       " '__enter__',\n",
       " '__eq__',\n",
       " '__exit__',\n",
       " '__format__',\n",
       " '__ge__',\n",
       " '__getattribute__',\n",
       " '__gt__',\n",
       " '__hash__',\n",
       " '__init__',\n",
       " '__init_subclass__',\n",
       " '__le__',\n",
       " '__lt__',\n",
       " '__module__',\n",
       " '__ne__',\n",
       " '__new__',\n",
       " '__reduce__',\n",
       " '__reduce_ex__',\n",
       " '__repr__',\n",
       " '__setattr__',\n",
       " '__sizeof__',\n",
       " '__str__',\n",
       " '__subclasshook__',\n",
       " '__weakref__',\n",
       " '_bare',\n",
       " '_clone',\n",
       " '_common_dir',\n",
       " '_get_alternates',\n",
       " '_get_config_path',\n",
       " '_get_untracked_files',\n",
       " '_set_alternates',\n",
       " '_working_tree_dir',\n",
       " 'active_branch',\n",
       " 'alternates',\n",
       " 'archive',\n",
       " 'bare',\n",
       " 'blame',\n",
       " 'blame_incremental',\n",
       " 'branches',\n",
       " 'clone',\n",
       " 'clone_from',\n",
       " 'close',\n",
       " 'commit',\n",
       " 'common_dir',\n",
       " 'config_level',\n",
       " 'config_reader',\n",
       " 'config_writer',\n",
       " 'create_head',\n",
       " 'create_remote',\n",
       " 'create_submodule',\n",
       " 'create_tag',\n",
       " 'currently_rebasing_on',\n",
       " 'daemon_export',\n",
       " 'delete_head',\n",
       " 'delete_remote',\n",
       " 'delete_tag',\n",
       " 'description',\n",
       " 'git',\n",
       " 'git_dir',\n",
       " 'has_separate_working_tree',\n",
       " 'head',\n",
       " 'heads',\n",
       " 'index',\n",
       " 'init',\n",
       " 'is_ancestor',\n",
       " 'is_dirty',\n",
       " 'iter_commits',\n",
       " 'iter_submodules',\n",
       " 'iter_trees',\n",
       " 'merge_base',\n",
       " 'odb',\n",
       " 're_author_committer_start',\n",
       " 're_hexsha_only',\n",
       " 're_hexsha_shortened',\n",
       " 're_tab_full_line',\n",
       " 're_whitespace',\n",
       " 'references',\n",
       " 'refs',\n",
       " 'remote',\n",
       " 'remotes',\n",
       " 'rev_parse',\n",
       " 'submodule',\n",
       " 'submodule_update',\n",
       " 'submodules',\n",
       " 'tag',\n",
       " 'tags',\n",
       " 'tree',\n",
       " 'untracked_files',\n",
       " 'working_dir',\n",
       " 'working_tree_dir']"
      ]
     },
     "execution_count": 9,
     "metadata": {},
     "output_type": "execute_result"
    }
   ],
   "source": [
    "dir(repo)"
   ]
  },
  {
   "cell_type": "code",
   "execution_count": 60,
   "metadata": {},
   "outputs": [
    {
     "data": {
      "text/plain": [
       "['.idea/encodings.xml',\n",
       " '.idea/exsu.iml',\n",
       " '.idea/misc.xml',\n",
       " '.idea/modules.xml',\n",
       " '.idea/workspace.xml',\n",
       " 'bld.bat',\n",
       " 'build.sh',\n",
       " 'devel/Untitled.ipynb',\n",
       " 'test_report/data.xlsx',\n",
       " 'test_report/test_image.png',\n",
       " 'test_report_common_spreadsheet.xlsx',\n",
       " 'tests/test_report/data.xlsx',\n",
       " 'tests/test_report_common_spreadsheet.xlsx']"
      ]
     },
     "execution_count": 60,
     "metadata": {},
     "output_type": "execute_result"
    }
   ],
   "source": [
    "repo.untracked_files"
   ]
  },
  {
   "cell_type": "code",
   "execution_count": 65,
   "metadata": {},
   "outputs": [
    {
     "data": {
      "text/plain": [
       "'README.md,conda-recipe/meta.yaml,exsu/git_tools.py,exsu/report.py,requirements_conda.txt,tests/repo_test.py'"
      ]
     },
     "execution_count": 65,
     "metadata": {},
     "output_type": "execute_result"
    }
   ],
   "source": [
    "\",\".join([item.a_path for item in repo.index.diff(None)])"
   ]
  },
  {
   "cell_type": "code",
   "execution_count": 61,
   "metadata": {},
   "outputs": [
    {
     "data": {
      "text/plain": [
       "'diff --git a/README.md b/README.md\\nindex 585e928..bf09e6a 100644\\n--- a/README.md\\n+++ b/README.md\\n@@ -56,3 +56,20 @@ img = img.astype(np.uint8)\\n report = exsu.report.Report(outputdir=outputdir, additional_spreadsheet_fn=commonsheet)\\n report.imsave(fn, img)\\n ```\\n+\\n+\\n+## Git repository info\\n+\\n+```python\\n+from pathlib import Path\\n+import numpy as np\\n+import exsu\\n+report = exsu.report.Report(repodir=Path(__file__).parent.resolve())\\n+report.finish_actual_row()\\n+report.df\\n+```\\n+\\n+```\\n+                               repo exsu id  repo exsu is dirty\\n+0  a1c966471ac3c97a4a39a51c2c213a935592dfd0                True\\n+```\\ndiff --git a/conda-recipe/meta.yaml b/conda-recipe/meta.yaml\\nindex d3c3807..5a00a28 100644\\n--- a/conda-recipe/meta.yaml\\n+++ b/conda-recipe/meta.yaml\\n@@ -46,6 +46,7 @@ requirements:\\n     - matplotlib\\n     - scikit-image\\n     - xlrd\\n+    - gitpython\\n     # - { pin_compatible(\\'imma\\', max_pin=\\'x.x\\') }\\n \\n   run:\\n@@ -57,6 +58,7 @@ requirements:\\n     - matplotlib\\n     - scikit-image\\n     - xlrd\\n+    - gitpython\\n     # - { pin_compatible(\\'imma\\', max_pin=\\'x.x\\') }\\n     # - numpy\\n     # - pyqt 4.11.* # [not win]\\ndiff --git a/exsu/git_tools.py b/exsu/git_tools.py\\nindex e69de29..2bc461d 100644\\n--- a/exsu/git_tools.py\\n+++ b/exsu/git_tools.py\\n@@ -0,0 +1,38 @@\\n+# /usr/bin/env python\\n+# -*- coding: utf-8 -*-\\n+\\n+from loguru import logger\\n+import git\\n+from git import Repo\\n+from typing import Union\\n+from pathlib import Path\\n+\\n+\\n+def repo_status_to_dict(repodir:Union[Path, str], reponame:str=None):\\n+    repodir = Path(repodir)\\n+    if is_git_repo(str(repodir)):\\n+        repo = Repo(str(repodir))\\n+    else:\\n+        return {}\\n+\\n+    if reponame is None:\\n+        reponame = repodir.resolve().stem\\n+\\n+    retval = {\\n+        f\"repo {reponame} id\": repo.head.object.hexsha,\\n+        f\"repo {reponame} is dirty\": repo.is_dirty(),\\n+    }\\n+    try:\\n+        describe = repo.git.describe()\\n+        retval[f\"repo {reponame} describe\"] = describe\\n+    except git.exc.GitCommandError as e:\\n+        logger.info(f\"git describe error: {str(e)}\")\\n+    return retval\\n+\\n+\\n+def is_git_repo(path):\\n+    try:\\n+        _ = git.Repo(path).git_dir\\n+        return True\\n+    except git.exc.InvalidGitRepositoryError:\\n+        return False\\ndiff --git a/exsu/report.py b/exsu/report.py\\nindex 4a057d1..9dcb16f 100644\\n--- a/exsu/report.py\\n+++ b/exsu/report.py\\n@@ -10,7 +10,9 @@ import os.path as op\\n import os\\n import warnings\\n from pathlib import Path\\n+from typing import Union\\n import numpy as np\\n+from . import git_tools\\n \\n \\n class Report:\\n@@ -22,6 +24,8 @@ class Report:\\n             save=True,\\n             show=True,\\n             debug=False,\\n+            repodir=None,\\n+            reponame=None,\\n     ):\\n         \"\"\"\\n \\n@@ -31,6 +35,7 @@ class Report:\\n         :param save:\\n         :param show:\\n         :param debug:\\n+        :param repodir: git repository directory to watch. Repository hash will be added to every row.\\n         \"\"\"\\n         # self.outputdir = op.expanduser(outputdir)\\n \\n@@ -45,9 +50,21 @@ class Report:\\n         self.spreadsheet_fn = \"data.xlsx\"\\n         self.additional_spreadsheet_fn = additional_spreadsheet_fn\\n         self.persistent_cols:dict = {}\\n+        # self.repos = []\\n \\n         if outputdir is not None:\\n             self.init_with_output_dir(outputdir)\\n+        else:\\n+            self.init()\\n+\\n+        if repodir is not None:\\n+            self.add_repo(repodir, reponame)\\n+\\n+    def add_repo(self, repodir:Union[Path, str], reponame:str=None):\\n+        # self.repos.push((repodir, reponame))\\n+        repo_cols = git_tools.repo_status_to_dict(repodir, reponame)\\n+        self.set_persistent_cols(repo_cols)\\n+\\n \\n     def set_persistent_cols(self, dct:dict, clear:bool=False):\\n         \"\"\"\\ndiff --git a/requirements_conda.txt b/requirements_conda.txt\\nindex 3a55296..c4d2702 100644\\n--- a/requirements_conda.txt\\n+++ b/requirements_conda.txt\\n@@ -5,4 +5,5 @@ openpyxl\\n lxml\\n matplotlib\\n scikit-image\\n-xlrd\\n\\\\ No newline at end of file\\n+xlrd\\n+gitpython\\n\\\\ No newline at end of file\\ndiff --git a/tests/repo_test.py b/tests/repo_test.py\\nindex e69de29..3e11d9a 100644\\n--- a/tests/repo_test.py\\n+++ b/tests/repo_test.py\\n@@ -0,0 +1,19 @@\\n+#! /usr/bin/python\\n+# -*- coding: utf-8 -*-\\n+\\n+from loguru import logger\\n+import unittest\\n+import os\\n+from pathlib import Path\\n+# import shutil\\n+import pandas as pd\\n+# import openslide\\n+import exsu.report\\n+\\n+\\n+def test_repo():\\n+    report = exsu.report.Report(repodir=Path(repodir=Path(__file__).parent.parent.resolve()))\\n+    report.finish_actual_row()\\n+    print(report.df)\\n+    assert report.df[\"repo exsu id\"] is not None\\n+    assert False'"
      ]
     },
     "execution_count": 61,
     "metadata": {},
     "output_type": "execute_result"
    }
   ],
   "source": [
    "repo.git.diff()"
   ]
  },
  {
   "cell_type": "code",
   "execution_count": null,
   "metadata": {},
   "outputs": [],
   "source": []
  },
  {
   "cell_type": "code",
   "execution_count": 10,
   "metadata": {},
   "outputs": [
    {
     "data": {
      "text/plain": [
       "['AutoInterrupt',\n",
       " 'CatFileContentStream',\n",
       " 'GIT_PYTHON_GIT_EXECUTABLE',\n",
       " 'GIT_PYTHON_TRACE',\n",
       " 'USE_SHELL',\n",
       " '_Git__get_object_header',\n",
       " '_Git__unpack_args',\n",
       " '__call__',\n",
       " '__class__',\n",
       " '__delattr__',\n",
       " '__dir__',\n",
       " '__doc__',\n",
       " '__eq__',\n",
       " '__format__',\n",
       " '__ge__',\n",
       " '__getattr__',\n",
       " '__getattribute__',\n",
       " '__getstate__',\n",
       " '__gt__',\n",
       " '__hash__',\n",
       " '__init__',\n",
       " '__init_subclass__',\n",
       " '__le__',\n",
       " '__lt__',\n",
       " '__module__',\n",
       " '__ne__',\n",
       " '__new__',\n",
       " '__reduce__',\n",
       " '__reduce_ex__',\n",
       " '__repr__',\n",
       " '__setattr__',\n",
       " '__setstate__',\n",
       " '__sizeof__',\n",
       " '__slots__',\n",
       " '__str__',\n",
       " '__subclasshook__',\n",
       " '_call_process',\n",
       " '_environment',\n",
       " '_excluded_',\n",
       " '_get_persistent_cmd',\n",
       " '_git_exec_env_var',\n",
       " '_git_options',\n",
       " '_parse_object_header',\n",
       " '_persistent_git_options',\n",
       " '_prepare_ref',\n",
       " '_refresh_env_var',\n",
       " '_set_cache_',\n",
       " '_version_info',\n",
       " '_working_dir',\n",
       " 'cat_file_all',\n",
       " 'cat_file_header',\n",
       " 'clear_cache',\n",
       " 'custom_environment',\n",
       " 'environment',\n",
       " 'execute',\n",
       " 'get_object_data',\n",
       " 'get_object_header',\n",
       " 'git_exec_name',\n",
       " 'is_cygwin',\n",
       " 'polish_url',\n",
       " 'refresh',\n",
       " 'set_persistent_git_options',\n",
       " 'stream_object_data',\n",
       " 'transform_kwarg',\n",
       " 'transform_kwargs',\n",
       " 'update_environment',\n",
       " 'version_info',\n",
       " 'working_dir']"
      ]
     },
     "execution_count": 10,
     "metadata": {},
     "output_type": "execute_result"
    }
   ],
   "source": [
    "dir(repo.git)"
   ]
  },
  {
   "cell_type": "code",
   "execution_count": 57,
   "metadata": {},
   "outputs": [
    {
     "data": {
      "text/plain": [
       "WindowsPath('C:/Users/Jirik/projects/exsu/devel')"
      ]
     },
     "execution_count": 57,
     "metadata": {},
     "output_type": "execute_result"
    }
   ],
   "source": [
    "Path(\"./file.txt\").parent.resolve()"
   ]
  }
 ],
 "metadata": {
  "kernelspec": {
   "display_name": "Python 3",
   "language": "python",
   "name": "python3"
  },
  "language_info": {
   "codemirror_mode": {
    "name": "ipython",
    "version": 3
   },
   "file_extension": ".py",
   "mimetype": "text/x-python",
   "name": "python",
   "nbconvert_exporter": "python",
   "pygments_lexer": "ipython3",
   "version": "3.6.6"
  },
  "toc": {
   "base_numbering": 1,
   "nav_menu": {},
   "number_sections": true,
   "sideBar": true,
   "skip_h1_title": false,
   "title_cell": "Table of Contents",
   "title_sidebar": "Contents",
   "toc_cell": false,
   "toc_position": {},
   "toc_section_display": true,
   "toc_window_display": true
  }
 },
 "nbformat": 4,
 "nbformat_minor": 2
}
